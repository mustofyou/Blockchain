{
 "cells": [
  {
   "cell_type": "code",
   "execution_count": 3,
   "id": "d9471ec1-c27f-475b-baee-2aac2e99dfdf",
   "metadata": {},
   "outputs": [],
   "source": [
    "import hashlib\n",
    "import datetime"
   ]
  },
  {
   "cell_type": "code",
   "execution_count": 7,
   "id": "98bb2549-0a5a-472d-8a1f-90eac6140c98",
   "metadata": {},
   "outputs": [],
   "source": [
    "class Block:\n",
    "    def __init__(self, data, prev_hash):\n",
    "        self.timestamp=datetime.datetime.now() #mal size geçtiği vakti kaydet\n",
    "        self.data = data\n",
    "        self.prev_hash = prev_hash\n",
    "        self.hash = self.calculate_hash() #şifrelenmiş kriptolanmış datamız\n",
    "\n",
    "    def calculate_hash(self):\n",
    "        hash_string = str(self.timestamp)+str(self.data)+str(self.prev_hash)\n",
    "        return hashlib.sha256(hash_string.encode()).hexdigest()"
   ]
  },
  {
   "cell_type": "code",
   "execution_count": 8,
   "id": "429f0a7e-b4ec-4ff1-87fa-63c688b778f2",
   "metadata": {},
   "outputs": [],
   "source": [
    "class Blockchain:\n",
    "    def __init__(self):\n",
    "        self.chain=[self.create_genesis_block()]\n",
    "    def create_genesis_block(self):\n",
    "        return Block('Genesis block',0)\n",
    "    def add_block(self,data):\n",
    "        prev_block=self.chain[-1]\n",
    "        new_block=Block(data,prev_block.hash)\n",
    "        self.chain.append(new_block)    "
   ]
  },
  {
   "cell_type": "code",
   "execution_count": 9,
   "id": "90da3d64-2740-408b-9776-d60ad814b34e",
   "metadata": {},
   "outputs": [],
   "source": [
    "blockchain = Blockchain()"
   ]
  },
  {
   "cell_type": "code",
   "execution_count": 11,
   "id": "a9dd45ce-c0e1-45f7-a4e3-3fa376fc164a",
   "metadata": {},
   "outputs": [],
   "source": [
    "blockchain.add_block('Birinci Block')\n",
    "blockchain.add_block('İkinci Block')\n",
    "blockchain.add_block('Üçüncü Block')"
   ]
  },
  {
   "cell_type": "code",
   "execution_count": 13,
   "id": "3f604f66-67bb-4530-92db-4d9fa02287ac",
   "metadata": {},
   "outputs": [
    {
     "name": "stdout",
     "output_type": "stream",
     "text": [
      "Blockchain\n",
      "date : 2025-08-03 09:52:57.269384\n",
      "Data : Genesis block\n",
      "Previous Hash : 0\n",
      "Current Hash : c07b52a82b10a034d70db437381ffc26c5b5546453656f694178b9f4373b1b84\n",
      "date : 2025-08-03 09:53:44.827443\n",
      "Data : Birinci Block\n",
      "Previous Hash : c07b52a82b10a034d70db437381ffc26c5b5546453656f694178b9f4373b1b84\n",
      "Current Hash : e21a315bede64f7ea777999106371b2d28a0a6909094ef2a2e25fd209a25af14\n",
      "date : 2025-08-03 09:53:44.827526\n",
      "Data : Birinci Block\n",
      "Previous Hash : e21a315bede64f7ea777999106371b2d28a0a6909094ef2a2e25fd209a25af14\n",
      "Current Hash : a73bc7b0786bea5094f10f0d77ae17ece41cf2519b9c67b4b49ec4531e3ede14\n",
      "date : 2025-08-03 09:53:44.827597\n",
      "Data : Birinci Block\n",
      "Previous Hash : a73bc7b0786bea5094f10f0d77ae17ece41cf2519b9c67b4b49ec4531e3ede14\n",
      "Current Hash : 2e06ccfb86efd9f148e77a4ed29225731741f24f6af186ef6353cc42e3f8c161\n",
      "date : 2025-08-03 09:53:55.279117\n",
      "Data : Birinci Block\n",
      "Previous Hash : 2e06ccfb86efd9f148e77a4ed29225731741f24f6af186ef6353cc42e3f8c161\n",
      "Current Hash : c7583957dfa53e3cc7b3838c1b435e93d1bbc4c8a54215aca363546a63b5822a\n",
      "date : 2025-08-03 09:53:55.279198\n",
      "Data : İkinci Block\n",
      "Previous Hash : c7583957dfa53e3cc7b3838c1b435e93d1bbc4c8a54215aca363546a63b5822a\n",
      "Current Hash : dfe2b94073e42f12c1c2a5998cf2ef4d8f6b08fef5145facb5a467cf1b9b30a1\n",
      "date : 2025-08-03 09:53:55.279263\n",
      "Data : Üçüncü Block\n",
      "Previous Hash : dfe2b94073e42f12c1c2a5998cf2ef4d8f6b08fef5145facb5a467cf1b9b30a1\n",
      "Current Hash : 83b5e2cc005ec29b13965d638a1b8513976b7e5d4ca6c62a6a4f5b4cc055be07\n"
     ]
    }
   ],
   "source": [
    "print('Blockchain')\n",
    "for block in blockchain.chain:\n",
    "    print('date :',block.timestamp)\n",
    "    print('Data :',block.data)\n",
    "    print('Previous Hash :',block.prev_hash)\n",
    "    print('Current Hash :',block.hash)"
   ]
  },
  {
   "cell_type": "code",
   "execution_count": null,
   "id": "5a673907-54b2-4a6a-b208-5bbc5ea0da40",
   "metadata": {},
   "outputs": [],
   "source": [
    "# 21 000 000 bitcoin üretilebilir\n",
    "# şu an 18 000 000 bitcoin üretilde\n",
    "# en son bitcoin 2140'da üretilecek. \n",
    "\n",
    "# ASIC machine ile bitcoin sistemi sana bir matematik problemi veriyor. \n",
    "# bu bilgisayarda algoritma ile çözmek gerekiyor.\n",
    "# her çözümde 12 bitcoin kazanılıyor. \n",
    "\n",
    "# BlockChain dünyası için bir dijital bir cüzdan açılır\n",
    "\n",
    "# NFT non fungible token - özel bilgileri ve sanat eserlerini dijital ortamda sahiplenmek için."
   ]
  }
 ],
 "metadata": {
  "kernelspec": {
   "display_name": "Python 3 (ipykernel)",
   "language": "python",
   "name": "python3"
  },
  "language_info": {
   "codemirror_mode": {
    "name": "ipython",
    "version": 3
   },
   "file_extension": ".py",
   "mimetype": "text/x-python",
   "name": "python",
   "nbconvert_exporter": "python",
   "pygments_lexer": "ipython3",
   "version": "3.10.18"
  }
 },
 "nbformat": 4,
 "nbformat_minor": 5
}
